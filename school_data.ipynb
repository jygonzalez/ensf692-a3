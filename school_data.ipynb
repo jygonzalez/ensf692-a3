{
 "cells": [
  {
   "cell_type": "markdown",
   "id": "bc91cadf",
   "metadata": {
    "lines_to_next_cell": 2
   },
   "source": [
    "# school_data.ipynb code implementation overview\n",
    "\n",
    "Author: Yael Gonzalez"
   ]
  },
  {
   "cell_type": "markdown",
   "id": "198472c8",
   "metadata": {},
   "source": [
    "## Data Cleaning"
   ]
  },
  {
   "cell_type": "markdown",
   "id": "7a25b6cc",
   "metadata": {},
   "source": [
    "Import required packages:"
   ]
  },
  {
   "cell_type": "code",
   "execution_count": 84,
   "id": "854fa929",
   "metadata": {},
   "outputs": [],
   "source": [
    "import numpy as np\n",
    "from given_data import year_2013, year_2014, year_2015, year_2016, year_2017, year_2018, year_2019, year_2020, year_2021, year_2022"
   ]
  },
  {
   "cell_type": "markdown",
   "id": "ef356203",
   "metadata": {},
   "source": [
    "In given_data.py we have school enrollment data provided in single NumPy arrays for each year. There are 20 schools with data for Grade 10, Grade 11, and Grade 12 across ten years. **The schools are arranged from smallest school code to largest.**"
   ]
  },
  {
   "cell_type": "markdown",
   "id": "c452fc83",
   "metadata": {},
   "source": [
    "Displaying *year_2013* to see it's structure:"
   ]
  },
  {
   "cell_type": "code",
   "execution_count": 4,
   "id": "e49b0ced",
   "metadata": {},
   "outputs": [
    {
     "data": {
      "text/plain": [
       "array([591, 572, 558, 472, 346,   0,  45,  57,  52, 160, 176, 189, 426,\n",
       "       483, 567, 620, 584, 585, 658, 631, 632, 289, 280, 311, 496, 465,\n",
       "       528, 523, 467, 517, 487, 413, 457,  29,  29,  45, 399, 361, 380,\n",
       "       210, 225, 359, 657, 566, 501, 163, 146, 228, 587, 611, 648, 514,\n",
       "       577, 522, 435, 364, 509, 504, 530, 512])"
      ]
     },
     "execution_count": 4,
     "metadata": {},
     "output_type": "execute_result"
    }
   ],
   "source": [
    "year_2013"
   ]
  },
  {
   "cell_type": "markdown",
   "id": "225c83d8",
   "metadata": {},
   "source": [
    "We can see all the enrollments for year 2013 for ordered for grades 10, 11, and 12 from smallest school code to largest.\n",
    "\n",
    "So, we can reshape it to a 2D array, where we have 20 schools and 3 grades. Like so:"
   ]
  },
  {
   "cell_type": "code",
   "execution_count": 20,
   "id": "7f07f77d",
   "metadata": {},
   "outputs": [
    {
     "data": {
      "text/plain": [
       "array([[591, 572, 558],\n",
       "       [472, 346,   0],\n",
       "       [ 45,  57,  52],\n",
       "       [160, 176, 189],\n",
       "       [426, 483, 567],\n",
       "       [620, 584, 585],\n",
       "       [658, 631, 632],\n",
       "       [289, 280, 311],\n",
       "       [496, 465, 528],\n",
       "       [523, 467, 517],\n",
       "       [487, 413, 457],\n",
       "       [ 29,  29,  45],\n",
       "       [399, 361, 380],\n",
       "       [210, 225, 359],\n",
       "       [657, 566, 501],\n",
       "       [163, 146, 228],\n",
       "       [587, 611, 648],\n",
       "       [514, 577, 522],\n",
       "       [435, 364, 509],\n",
       "       [504, 530, 512]])"
      ]
     },
     "execution_count": 20,
     "metadata": {},
     "output_type": "execute_result"
    }
   ],
   "source": [
    "year_2013.reshape(20, 3) # 20 schools, 3 grades (10, 11, 12)"
   ]
  },
  {
   "cell_type": "markdown",
   "id": "af31de24",
   "metadata": {},
   "source": [
    "Each row represents a school that contains the enrollment data for the 3 grades.\n",
    "\n",
    "Next, we check if any year contains NaN data:"
   ]
  },
  {
   "cell_type": "code",
   "execution_count": 24,
   "id": "0c1370fe",
   "metadata": {},
   "outputs": [
    {
     "name": "stdout",
     "output_type": "stream",
     "text": [
      "False\n",
      "False\n",
      "False\n",
      "False\n",
      "False\n",
      "False\n",
      "False\n",
      "False\n",
      "True\n",
      "True\n"
     ]
    }
   ],
   "source": [
    "print(np.any(np.isnan(year_2013)))\n",
    "print(np.any(np.isnan(year_2014)))\n",
    "print(np.any(np.isnan(year_2015)))\n",
    "print(np.any(np.isnan(year_2016)))\n",
    "print(np.any(np.isnan(year_2017)))\n",
    "print(np.any(np.isnan(year_2018)))\n",
    "print(np.any(np.isnan(year_2019)))\n",
    "print(np.any(np.isnan(year_2020)))\n",
    "print(np.any(np.isnan(year_2021)))\n",
    "print(np.any(np.isnan(year_2022)))"
   ]
  },
  {
   "cell_type": "markdown",
   "id": "abd5db4f",
   "metadata": {},
   "source": [
    "We can see that years 2021 and 2022 contain NaN data."
   ]
  },
  {
   "cell_type": "code",
   "execution_count": 27,
   "id": "4336a8b1",
   "metadata": {},
   "outputs": [
    {
     "data": {
      "text/plain": [
       "array([[518., 453., 493.],\n",
       "       [464., 493., 420.],\n",
       "       [  4.,   7.,  42.],\n",
       "       [164., 136., 139.],\n",
       "       [475., 424., 450.],\n",
       "       [664., 623., 642.],\n",
       "       [663., 679., 737.],\n",
       "       [489., 522., 566.],\n",
       "       [482., 431., 413.],\n",
       "       [507., 476., 643.],\n",
       "       [448., 404., 448.],\n",
       "       [ nan,  nan,  nan],\n",
       "       [652., 497., 552.],\n",
       "       [435., 384., 404.],\n",
       "       [574., 474., 498.],\n",
       "       [139., 123., 176.],\n",
       "       [750., 728., 747.],\n",
       "       [529., 571., 508.],\n",
       "       [578., 459., 484.],\n",
       "       [478., 487., 571.]])"
      ]
     },
     "execution_count": 27,
     "metadata": {},
     "output_type": "execute_result"
    }
   ],
   "source": [
    "year_2021.reshape(20, 3)"
   ]
  },
  {
   "cell_type": "code",
   "execution_count": 44,
   "id": "9c821892",
   "metadata": {},
   "outputs": [
    {
     "name": "stdout",
     "output_type": "stream",
     "text": [
      "Year 2021 contains NaN values in row:  11\n"
     ]
    }
   ],
   "source": [
    "# Check which row contains NaN values\n",
    "rows_with_nan = np.any(np.isnan(year_2021.reshape(20, 3)), axis=1)\n",
    "\n",
    "# Print the index of the row\n",
    "print(\"Year 2021 contains NaN values in row: \", np.where(rows_with_nan)[0][0])"
   ]
  },
  {
   "cell_type": "code",
   "execution_count": 28,
   "id": "afe42532",
   "metadata": {},
   "outputs": [
    {
     "data": {
      "text/plain": [
       "array([[419., 445., 446.],\n",
       "       [427., 378., 352.],\n",
       "       [  2.,   4.,  38.],\n",
       "       [170., 148., 127.],\n",
       "       [424., 365., 424.],\n",
       "       [583., 602., 601.],\n",
       "       [706., 728., 714.],\n",
       "       [558., 522., 437.],\n",
       "       [372., 289., 318.],\n",
       "       [514., 510., 491.],\n",
       "       [413., 463., 405.],\n",
       "       [ nan,  nan,  nan],\n",
       "       [488., 520., 458.],\n",
       "       [375., 403., 391.],\n",
       "       [465., 486., 290.],\n",
       "       [109., 127., 166.],\n",
       "       [815., 748., 742.],\n",
       "       [565., 521., 435.],\n",
       "       [605., 589., 477.],\n",
       "       [496., 507., 527.]])"
      ]
     },
     "execution_count": 28,
     "metadata": {},
     "output_type": "execute_result"
    }
   ],
   "source": [
    "year_2022.reshape(20, 3)"
   ]
  },
  {
   "cell_type": "code",
   "execution_count": 45,
   "id": "1b130552",
   "metadata": {},
   "outputs": [
    {
     "name": "stdout",
     "output_type": "stream",
     "text": [
      "Year 2022 contains NaN values in row:  11\n"
     ]
    }
   ],
   "source": [
    "# Check which row contains NaN values\n",
    "rows_with_nan = np.any(np.isnan(year_2022.reshape(20, 3)), axis=1)\n",
    "\n",
    "# Print the index of the row\n",
    "print(\"Year 2022 contains NaN values in row: \", np.where(rows_with_nan)[0][0])"
   ]
  },
  {
   "cell_type": "markdown",
   "id": "3858af18",
   "metadata": {},
   "source": [
    "This means that the school in the 12th position (from smalles school code to largest) is missing data in the years 2021 and 2022.\n",
    "\n"
   ]
  },
  {
   "cell_type": "code",
   "execution_count": 64,
   "id": "8bfbd4f6",
   "metadata": {},
   "outputs": [
    {
     "name": "stdout",
     "output_type": "stream",
     "text": [
      "[29, 36, 48, 41, 45, 38, 61, 34]\n",
      "[29, 44, 37, 46, 50, 45, 56, 59]\n",
      "[45, 44, 43, 48, 56, 57, 69, 64]\n"
     ]
    }
   ],
   "source": [
    "school12_grade10_years_2013_to_2020 = [year_2013.reshape(20, 3)[11][0], year_2014.reshape(20, 3)[11][0], year_2015.reshape(20, 3)[11][0], year_2016.reshape(20, 3)[11][0], year_2017.reshape(20, 3)[11][0], year_2018.reshape(20, 3)[11][0], year_2019.reshape(20, 3)[11][0], year_2020.reshape(20, 3)[11][0]]\n",
    "school12_grade11_years_2013_to_2020 = [year_2013.reshape(20, 3)[11][1], year_2014.reshape(20, 3)[11][1], year_2015.reshape(20, 3)[11][1], year_2016.reshape(20, 3)[11][1], year_2017.reshape(20, 3)[11][1], year_2018.reshape(20, 3)[11][1], year_2019.reshape(20, 3)[11][1], year_2020.reshape(20, 3)[11][1]]\n",
    "school12_grade12_years_2013_to_2020 = [year_2013.reshape(20, 3)[11][2], year_2014.reshape(20, 3)[11][2], year_2015.reshape(20, 3)[11][2], year_2016.reshape(20, 3)[11][2], year_2017.reshape(20, 3)[11][2], year_2018.reshape(20, 3)[11][2], year_2019.reshape(20, 3)[11][2], year_2020.reshape(20, 3)[11][2]]\n",
    "\n",
    "print(school12_grade10_years_2013_to_2020)\n",
    "print(school12_grade11_years_2013_to_2020)\n",
    "print(school12_grade12_years_2013_to_2020)"
   ]
  },
  {
   "cell_type": "code",
   "execution_count": 65,
   "id": "670204b5",
   "metadata": {},
   "outputs": [],
   "source": [
    "import math\n",
    "\n",
    "school12_mean_grade10 = math.floor(np.mean(school12_grade10_years_2013_to_2020))\n",
    "school12_mean_grade11 = math.floor(np.mean(school12_grade11_years_2013_to_2020))\n",
    "school12_mean_grade12 = math.floor(np.mean(school12_grade12_years_2013_to_2020))"
   ]
  },
  {
   "cell_type": "code",
   "execution_count": 71,
   "id": "551df4ea",
   "metadata": {},
   "outputs": [
    {
     "name": "stdout",
     "output_type": "stream",
     "text": [
      "[[518. 453. 493.]\n",
      " [464. 493. 420.]\n",
      " [  4.   7.  42.]\n",
      " [164. 136. 139.]\n",
      " [475. 424. 450.]\n",
      " [664. 623. 642.]\n",
      " [663. 679. 737.]\n",
      " [489. 522. 566.]\n",
      " [482. 431. 413.]\n",
      " [507. 476. 643.]\n",
      " [448. 404. 448.]\n",
      " [ 41.  45.  53.]\n",
      " [652. 497. 552.]\n",
      " [435. 384. 404.]\n",
      " [574. 474. 498.]\n",
      " [139. 123. 176.]\n",
      " [750. 728. 747.]\n",
      " [529. 571. 508.]\n",
      " [578. 459. 484.]\n",
      " [478. 487. 571.]]\n"
     ]
    }
   ],
   "source": [
    "clean_2D_2021 = year_2021.reshape(20, 3)\n",
    "\n",
    "clean_2D_2021[11][0] = school12_mean_grade10\n",
    "clean_2D_2021[11][1] = school12_mean_grade11\n",
    "clean_2D_2021[11][2] = school12_mean_grade12\n",
    "\n",
    "print(clean_2D_2021)"
   ]
  },
  {
   "cell_type": "code",
   "execution_count": 73,
   "id": "83f66466",
   "metadata": {},
   "outputs": [
    {
     "name": "stdout",
     "output_type": "stream",
     "text": [
      "[518. 453. 493. 464. 493. 420.   4.   7.  42. 164. 136. 139. 475. 424.\n",
      " 450. 664. 623. 642. 663. 679. 737. 489. 522. 566. 482. 431. 413. 507.\n",
      " 476. 643. 448. 404. 448.  41.  45.  53. 652. 497. 552. 435. 384. 404.\n",
      " 574. 474. 498. 139. 123. 176. 750. 728. 747. 529. 571. 508. 578. 459.\n",
      " 484. 478. 487. 571.]\n"
     ]
    }
   ],
   "source": [
    "clean_2021 = clean_2D_2021.reshape(60)\n",
    "print(clean_2021)"
   ]
  },
  {
   "cell_type": "code",
   "execution_count": 68,
   "id": "5272a6d9",
   "metadata": {},
   "outputs": [
    {
     "name": "stdout",
     "output_type": "stream",
     "text": [
      "[[419. 445. 446.]\n",
      " [427. 378. 352.]\n",
      " [  2.   4.  38.]\n",
      " [170. 148. 127.]\n",
      " [424. 365. 424.]\n",
      " [583. 602. 601.]\n",
      " [706. 728. 714.]\n",
      " [558. 522. 437.]\n",
      " [372. 289. 318.]\n",
      " [514. 510. 491.]\n",
      " [413. 463. 405.]\n",
      " [ 41.  45.  53.]\n",
      " [488. 520. 458.]\n",
      " [375. 403. 391.]\n",
      " [465. 486. 290.]\n",
      " [109. 127. 166.]\n",
      " [815. 748. 742.]\n",
      " [565. 521. 435.]\n",
      " [605. 589. 477.]\n",
      " [496. 507. 527.]]\n"
     ]
    }
   ],
   "source": [
    "clean_2D_2022 = year_2022.reshape(20, 3)\n",
    "\n",
    "clean_2D_2022[11][0] = school12_mean_grade10\n",
    "clean_2D_2022[11][1] = school12_mean_grade11\n",
    "clean_2D_2022[11][2] = school12_mean_grade12\n",
    "\n",
    "print(clean_2D_2022)"
   ]
  },
  {
   "cell_type": "code",
   "execution_count": null,
   "id": "8767f20e",
   "metadata": {},
   "outputs": [],
   "source": [
    "np.array()"
   ]
  },
  {
   "cell_type": "code",
   "execution_count": 2,
   "id": "c926162e",
   "metadata": {},
   "outputs": [],
   "source": [
    "school_dict = {\n",
    "    1224: \"Centennial High School\",\n",
    "    1679: \"Robert Thirsk School\", \n",
    "    9626: \"Louise Dean School\",\n",
    "    9806: \"Queen Elizabeth High School\",\n",
    "    9813: \"Forest Lawn High School\",\n",
    "    9815: \"Crescent Heights High School\",\n",
    "    9816: \"Western Canada High School\",\n",
    "    9823: \"Central Memorial High School\",\n",
    "    9825: \"James Fowler High School\",\n",
    "    9826: \"Ernest Manning High School\",\n",
    "    9829: \"William Aberhart High School\",\n",
    "    9830: \"National Sport School\",\n",
    "    9836: \"Henry Wise Wood High School\",\n",
    "    9847: \"Bowness High School\",\n",
    "    9850: \"Lord Beaverbrook High School\",\n",
    "    9856: \"Jack James High School\",\n",
    "    9857: \"Sir Winston Churchill High School\",\n",
    "    9858: \"Dr. E. P. Scarlett High School\",\n",
    "    9860: \"John G Diefenbaker High School\",\n",
    "    9865: \"Lester B. Pearson High School\"\n",
    "}"
   ]
  },
  {
   "cell_type": "code",
   "execution_count": 3,
   "id": "830d8b16",
   "metadata": {
    "lines_to_next_cell": 2
   },
   "outputs": [],
   "source": [
    "school_codes = np.array([1224, 1679, 9626, 9806, 9813, 9815, 9816, 9823, 9825, 9826, 9829, 9830, 9836, 9847, 9850, 9856, 9857, 9858, 9860, 9865])"
   ]
  },
  {
   "cell_type": "code",
   "execution_count": null,
   "id": "260f6dba",
   "metadata": {},
   "outputs": [],
   "source": [
    "def main():\n",
    "    print(\"ENSF 692 School Enrollment Statistics\")\n",
    "\n",
    "    # Print Stage 1 requirements here\n",
    "    print(year_2013)\n",
    "\n",
    "    # Prompt for user input\n",
    "\n",
    "    # Print Stage 2 requirements here\n",
    "    print(\"\\n***Requested School Statistics***\\n\")\n",
    "\n",
    "    # Print Stage 3 requirements here\n",
    "    print(\"\\n***General Statistics for All Schools***\\n\")"
   ]
  },
  {
   "cell_type": "code",
   "execution_count": null,
   "id": "69740038",
   "metadata": {
    "lines_to_next_cell": 2
   },
   "outputs": [],
   "source": [
    "if __name__ == '__main__':\n",
    "    main()"
   ]
  }
 ],
 "metadata": {
  "jupytext": {
   "cell_metadata_filter": "-all",
   "main_language": "python",
   "notebook_metadata_filter": "-all"
  },
  "kernelspec": {
   "display_name": "base",
   "language": "python",
   "name": "python3"
  },
  "language_info": {
   "codemirror_mode": {
    "name": "ipython",
    "version": 3
   },
   "file_extension": ".py",
   "mimetype": "text/x-python",
   "name": "python",
   "nbconvert_exporter": "python",
   "pygments_lexer": "ipython3",
   "version": "3.11.7"
  }
 },
 "nbformat": 4,
 "nbformat_minor": 5
}
