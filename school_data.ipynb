{
 "cells": [
  {
   "cell_type": "markdown",
   "id": "bc91cadf",
   "metadata": {
    "lines_to_next_cell": 2
   },
   "source": [
    "# Data Cleaning\n",
    "\n",
    "Author: Yael Gonzalez"
   ]
  },
  {
   "cell_type": "markdown",
   "id": "7a25b6cc",
   "metadata": {},
   "source": [
    "We import the required packages."
   ]
  },
  {
   "cell_type": "code",
   "execution_count": 17,
   "id": "854fa929",
   "metadata": {},
   "outputs": [],
   "source": [
    "import numpy as np\n",
    "from given_data import year_2013, year_2014, year_2015, year_2016, year_2017, year_2018, year_2019, year_2020, year_2021, year_2022"
   ]
  },
  {
   "cell_type": "markdown",
   "id": "6b9db40e",
   "metadata": {},
   "source": [
    "We add each of the 10 year arrays, which represent enrollment data for 20 schools for grades 10 through 12 in a year, to a `list`. Then, we create a *NumPy* `array` using the list and we `reshape` it to a (10, 20, 3) 3D array."
   ]
  },
  {
   "cell_type": "code",
   "execution_count": 43,
   "id": "89f242ff",
   "metadata": {},
   "outputs": [],
   "source": [
    "enrollment_data = [year_2013, year_2014, year_2015, year_2016, year_2017, year_2018, year_2019, year_2020, year_2021, year_2022]\n",
    "enrollment_data_array = np.array(enrollment_data).reshape((10, 20, 3))"
   ]
  },
  {
   "cell_type": "markdown",
   "id": "e31e795e",
   "metadata": {},
   "source": [
    "We create a mask of the array using `isnan` and use `any` to search for *NaN* values, which returns `True`."
   ]
  },
  {
   "cell_type": "code",
   "execution_count": 42,
   "id": "3eac9566",
   "metadata": {},
   "outputs": [
    {
     "data": {
      "text/plain": [
       "True"
      ]
     },
     "execution_count": 42,
     "metadata": {},
     "output_type": "execute_result"
    }
   ],
   "source": [
    "mask = np.isnan(enrollment_data_array)\n",
    "np.any(mask)"
   ]
  },
  {
   "cell_type": "markdown",
   "id": "caa0e834",
   "metadata": {},
   "source": [
    "We search for the indices where there are NaN values using the mask and `argwhere`, and we print to visualize the indices."
   ]
  },
  {
   "cell_type": "code",
   "execution_count": 19,
   "id": "94485575",
   "metadata": {},
   "outputs": [
    {
     "name": "stdout",
     "output_type": "stream",
     "text": [
      "[[ 8 11  0]\n",
      " [ 8 11  1]\n",
      " [ 8 11  2]\n",
      " [ 9 11  0]\n",
      " [ 9 11  1]\n",
      " [ 9 11  2]]\n"
     ]
    }
   ],
   "source": [
    "indices_of_nans = np.argwhere(mask)\n",
    "\n",
    "print(indices_of_nans)"
   ]
  },
  {
   "cell_type": "markdown",
   "id": "fc1ebc68",
   "metadata": {},
   "source": [
    "After identifying missing values at indices corresponding to the 12th school in 2021 and 2022, we aim to replace them with meaningful data. To do so, we calculate the mean enrollment for each grade from 2013 to 2020. This involves isolating relevant records by slicing `enrollment_data_array`, followed by rounding down the mean, as enrollments cannot be decimals."
   ]
  },
  {
   "cell_type": "code",
   "execution_count": 45,
   "id": "c91ceb27",
   "metadata": {},
   "outputs": [],
   "source": [
    "grade_10_data = enrollment_data_array[0:8, 11, 0]\n",
    "grade_11_data = enrollment_data_array[0:8, 11, 1]\n",
    "grade_12_data = enrollment_data_array[0:8, 11, 2]\n",
    "\n",
    "grade_10_replacement = np.floor(np.mean(grade_10_data)).astype(int)\n",
    "grade_11_replacement = np.floor(np.mean(grade_11_data)).astype(int)\n",
    "grade_12_replacement = np.floor(np.mean(grade_12_data)).astype(int)"
   ]
  },
  {
   "cell_type": "markdown",
   "id": "1fe0366f",
   "metadata": {},
   "source": [
    "We see each calculated value:"
   ]
  },
  {
   "cell_type": "code",
   "execution_count": 48,
   "id": "b2cb54ff",
   "metadata": {},
   "outputs": [
    {
     "name": "stdout",
     "output_type": "stream",
     "text": [
      "Estimated value for grade 10 enrollments in 2021 and 2022: 41\n",
      "Estimated value for grade 11 enrollments in 2021 and 2022: 45\n",
      "Estimated value for grade 12 enrollments in 2021 and 2022: 53\n"
     ]
    }
   ],
   "source": [
    "print(f\"Estimated value for grade 10 enrollments in 2021 and 2022: {grade_10_replacement}\")\n",
    "print(f\"Estimated value for grade 11 enrollments in 2021 and 2022: {grade_11_replacement}\")\n",
    "print(f\"Estimated value for grade 12 enrollments in 2021 and 2022: {grade_12_replacement}\")"
   ]
  },
  {
   "cell_type": "markdown",
   "id": "4f650499",
   "metadata": {},
   "source": [
    "Finally, instead of modifying the original `enrollment_data_array` array we decide to create a copy named `enrollment_clean_data_array`, and we make the replacements there."
   ]
  },
  {
   "cell_type": "code",
   "execution_count": 25,
   "id": "9887ec0d",
   "metadata": {},
   "outputs": [],
   "source": [
    "enrollment_clean_data_array = np.copy(enrollment_data_array)\n",
    "\n",
    "enrollment_clean_data_array[8:10, 11, 0] = grade_10_replacement\n",
    "enrollment_clean_data_array[8:10, 11, 1] = grade_11_replacement\n",
    "enrollment_clean_data_array[8:10, 11, 2] = grade_12_replacement"
   ]
  },
  {
   "cell_type": "markdown",
   "id": "df958092",
   "metadata": {},
   "source": [
    "To make sure our changes are good, we print the clean array's shape, dimension, and check if there is any NaN value."
   ]
  },
  {
   "cell_type": "code",
   "execution_count": 39,
   "id": "92e1910a",
   "metadata": {},
   "outputs": [
    {
     "name": "stdout",
     "output_type": "stream",
     "text": [
      "Shape of clean array: (10, 20, 3)\n",
      "Dimension of clean array: 3\n",
      "Is any value NaN in clean array?: False\n"
     ]
    }
   ],
   "source": [
    "print(f\"Shape of clean array: {enrollment_clean_data_array.shape}\")\n",
    "print(f\"Dimension of clean array: {enrollment_clean_data_array.ndim}\")\n",
    "print(f\"Is any value NaN in clean array?: {np.any(np.isnan(enrollment_clean_data_array))}\")"
   ]
  },
  {
   "cell_type": "markdown",
   "id": "6a9a09c0",
   "metadata": {},
   "source": [
    "We display clean array for further reference:"
   ]
  },
  {
   "cell_type": "code",
   "execution_count": 40,
   "id": "7c8dc248",
   "metadata": {},
   "outputs": [
    {
     "data": {
      "text/plain": [
       "array([[[591., 572., 558.],\n",
       "        [472., 346.,   0.],\n",
       "        [ 45.,  57.,  52.],\n",
       "        [160., 176., 189.],\n",
       "        [426., 483., 567.],\n",
       "        [620., 584., 585.],\n",
       "        [658., 631., 632.],\n",
       "        [289., 280., 311.],\n",
       "        [496., 465., 528.],\n",
       "        [523., 467., 517.],\n",
       "        [487., 413., 457.],\n",
       "        [ 29.,  29.,  45.],\n",
       "        [399., 361., 380.],\n",
       "        [210., 225., 359.],\n",
       "        [657., 566., 501.],\n",
       "        [163., 146., 228.],\n",
       "        [587., 611., 648.],\n",
       "        [514., 577., 522.],\n",
       "        [435., 364., 509.],\n",
       "        [504., 530., 512.]],\n",
       "\n",
       "       [[599., 592., 598.],\n",
       "        [444., 452., 341.],\n",
       "        [ 40.,  49.,  55.],\n",
       "        [151., 137., 173.],\n",
       "        [430., 404., 572.],\n",
       "        [662., 611., 602.],\n",
       "        [618., 639., 605.],\n",
       "        [323., 370., 395.],\n",
       "        [422., 437., 524.],\n",
       "        [522., 549., 529.],\n",
       "        [537., 502., 416.],\n",
       "        [ 36.,  44.,  44.],\n",
       "        [362., 371., 354.],\n",
       "        [219., 200., 222.],\n",
       "        [569., 619., 562.],\n",
       "        [131., 164., 208.],\n",
       "        [604., 641., 720.],\n",
       "        [549., 541., 581.],\n",
       "        [438., 431., 459.],\n",
       "        [518., 501., 565.]],\n",
       "\n",
       "       [[558., 585., 598.],\n",
       "        [419., 411., 463.],\n",
       "        [ 29.,  36.,  68.],\n",
       "        [137., 115., 106.],\n",
       "        [373., 403., 532.],\n",
       "        [659., 643., 583.],\n",
       "        [624., 610., 594.],\n",
       "        [271., 227., 316.],\n",
       "        [564., 383., 455.],\n",
       "        [565., 530., 543.],\n",
       "        [469., 491., 499.],\n",
       "        [ 48.,  37.,  43.],\n",
       "        [361., 337., 373.],\n",
       "        [215., 209., 212.],\n",
       "        [578., 489., 590.],\n",
       "        [116., 126., 201.],\n",
       "        [726., 626., 651.],\n",
       "        [515., 523., 529.],\n",
       "        [461., 406., 494.],\n",
       "        [552., 495., 515.]],\n",
       "\n",
       "       [[625., 555., 600.],\n",
       "        [345., 396., 436.],\n",
       "        [ 16.,  47.,  56.],\n",
       "        [155.,  93., 137.],\n",
       "        [431., 384., 567.],\n",
       "        [440., 514., 659.],\n",
       "        [682., 571., 630.],\n",
       "        [183., 210., 230.],\n",
       "        [197., 237., 459.],\n",
       "        [581., 583., 546.],\n",
       "        [460., 438., 499.],\n",
       "        [ 41.,  46.,  48.],\n",
       "        [341., 367., 377.],\n",
       "        [233., 207., 221.],\n",
       "        [535., 546., 543.],\n",
       "        [ 74.,  95., 179.],\n",
       "        [691., 740., 680.],\n",
       "        [556., 528., 568.],\n",
       "        [420., 456., 511.],\n",
       "        [459., 512., 564.]],\n",
       "\n",
       "       [[611., 617., 582.],\n",
       "        [433., 374., 450.],\n",
       "        [ 15.,  48.,  58.],\n",
       "        [115., 123., 106.],\n",
       "        [395., 378., 531.],\n",
       "        [408., 388., 529.],\n",
       "        [798., 665., 636.],\n",
       "        [355., 368., 491.],\n",
       "        [215., 193., 330.],\n",
       "        [607., 557., 555.],\n",
       "        [491., 439., 423.],\n",
       "        [ 45.,  50.,  56.],\n",
       "        [422., 338., 390.],\n",
       "        [249., 241., 232.],\n",
       "        [583., 506., 534.],\n",
       "        [127., 127., 191.],\n",
       "        [706., 680., 763.],\n",
       "        [546., 580., 549.],\n",
       "        [459., 418., 517.],\n",
       "        [497., 423., 582.]],\n",
       "\n",
       "       [[485., 540., 582.],\n",
       "        [398., 423., 391.],\n",
       "        [ 23.,  25.,  58.],\n",
       "        [150.,  83., 120.],\n",
       "        [395., 402., 527.],\n",
       "        [568., 426., 510.],\n",
       "        [716., 688., 651.],\n",
       "        [387., 388., 419.],\n",
       "        [242., 204., 254.],\n",
       "        [685., 576., 535.],\n",
       "        [437., 473., 428.],\n",
       "        [ 38.,  45.,  57.],\n",
       "        [417., 391., 398.],\n",
       "        [386., 238., 249.],\n",
       "        [229., 250., 495.],\n",
       "        [ 81., 112., 135.],\n",
       "        [703., 705., 744.],\n",
       "        [533., 496., 580.],\n",
       "        [443., 438., 460.],\n",
       "        [551., 456., 473.]],\n",
       "\n",
       "       [[463., 481., 556.],\n",
       "        [355., 430., 455.],\n",
       "        [ 13.,  23.,  52.],\n",
       "        [146., 146., 127.],\n",
       "        [383., 397., 441.],\n",
       "        [556., 615., 530.],\n",
       "        [723., 724., 798.],\n",
       "        [391., 391., 409.],\n",
       "        [251., 234., 322.],\n",
       "        [674., 692., 629.],\n",
       "        [476., 447., 507.],\n",
       "        [ 61.,  56.,  69.],\n",
       "        [458., 434., 424.],\n",
       "        [391., 381., 254.],\n",
       "        [241., 245., 299.],\n",
       "        [102.,  77., 146.],\n",
       "        [749., 677., 744.],\n",
       "        [488., 514., 503.],\n",
       "        [474., 449., 531.],\n",
       "        [535., 528., 553.]],\n",
       "\n",
       "       [[455., 436., 437.],\n",
       "        [360., 352., 437.],\n",
       "        [ 12.,  21.,  34.],\n",
       "        [137., 143., 142.],\n",
       "        [378., 361., 438.],\n",
       "        [565., 555., 629.],\n",
       "        [690., 727., 734.],\n",
       "        [543., 401., 459.],\n",
       "        [290., 234., 315.],\n",
       "        [491., 662., 680.],\n",
       "        [420., 465., 434.],\n",
       "        [ 34.,  59.,  64.],\n",
       "        [532., 449., 431.],\n",
       "        [402., 382., 364.],\n",
       "        [482., 251., 293.],\n",
       "        [128., 102., 144.],\n",
       "        [739., 746., 709.],\n",
       "        [540., 463., 503.],\n",
       "        [452., 482., 475.],\n",
       "        [537., 533., 559.]],\n",
       "\n",
       "       [[518., 453., 493.],\n",
       "        [464., 493., 420.],\n",
       "        [  4.,   7.,  42.],\n",
       "        [164., 136., 139.],\n",
       "        [475., 424., 450.],\n",
       "        [664., 623., 642.],\n",
       "        [663., 679., 737.],\n",
       "        [489., 522., 566.],\n",
       "        [482., 431., 413.],\n",
       "        [507., 476., 643.],\n",
       "        [448., 404., 448.],\n",
       "        [ 41.,  45.,  53.],\n",
       "        [652., 497., 552.],\n",
       "        [435., 384., 404.],\n",
       "        [574., 474., 498.],\n",
       "        [139., 123., 176.],\n",
       "        [750., 728., 747.],\n",
       "        [529., 571., 508.],\n",
       "        [578., 459., 484.],\n",
       "        [478., 487., 571.]],\n",
       "\n",
       "       [[419., 445., 446.],\n",
       "        [427., 378., 352.],\n",
       "        [  2.,   4.,  38.],\n",
       "        [170., 148., 127.],\n",
       "        [424., 365., 424.],\n",
       "        [583., 602., 601.],\n",
       "        [706., 728., 714.],\n",
       "        [558., 522., 437.],\n",
       "        [372., 289., 318.],\n",
       "        [514., 510., 491.],\n",
       "        [413., 463., 405.],\n",
       "        [ 41.,  45.,  53.],\n",
       "        [488., 520., 458.],\n",
       "        [375., 403., 391.],\n",
       "        [465., 486., 290.],\n",
       "        [109., 127., 166.],\n",
       "        [815., 748., 742.],\n",
       "        [565., 521., 435.],\n",
       "        [605., 589., 477.],\n",
       "        [496., 507., 527.]]])"
      ]
     },
     "execution_count": 40,
     "metadata": {},
     "output_type": "execute_result"
    }
   ],
   "source": [
    "enrollment_clean_data_array"
   ]
  }
 ],
 "metadata": {
  "jupytext": {
   "cell_metadata_filter": "-all",
   "main_language": "python",
   "notebook_metadata_filter": "-all"
  },
  "kernelspec": {
   "display_name": "base",
   "language": "python",
   "name": "python3"
  },
  "language_info": {
   "codemirror_mode": {
    "name": "ipython",
    "version": 3
   },
   "file_extension": ".py",
   "mimetype": "text/x-python",
   "name": "python",
   "nbconvert_exporter": "python",
   "pygments_lexer": "ipython3",
   "version": "3.11.7"
  }
 },
 "nbformat": 4,
 "nbformat_minor": 5
}
